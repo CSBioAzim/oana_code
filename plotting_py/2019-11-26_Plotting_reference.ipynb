{
 "cells": [
  {
   "cell_type": "code",
   "execution_count": 13,
   "metadata": {},
   "outputs": [],
   "source": [
    "import matplotlib\n",
    "import numpy as np\n",
    "import pandas as pd\n",
    "%matplotlib inline\n",
    "import matplotlib.pyplot as plt\n",
    "\n",
    "import seaborn as sns"
   ]
  },
  {
   "cell_type": "markdown",
   "metadata": {},
   "source": [
    "Plot sorted bars\n",
    "=="
   ]
  },
  {
   "cell_type": "code",
   "execution_count": 34,
   "metadata": {},
   "outputs": [
    {
     "name": "stdout",
     "output_type": "stream",
     "text": [
      "\n",
      "df = df.sort_values([y]).reset_index(drop=True)\n",
      "sns.barplot(y=y,x=x,data=df,color=color)\n",
      "\n"
     ]
    },
    {
     "data": {
      "image/png": "[encoded data removed]",
      "text/plain": [
       "<Figure size 432x288 with 1 Axes>"
      ]
     },
     "metadata": {},
     "output_type": "display_data"
    }
   ],
   "source": [
    "df=pd.DataFrame({'col1':[2,3,4,1],'col2':['two','three','four','one']})\n",
    "\n",
    "def plot_sorted_bar(df,x,y,color='black',figwidth=5,figheight=5,wish='print'):\n",
    "    if wish=='print':\n",
    "        print('\\n'+\n",
    "        'df = df.sort_values([y]).reset_index(drop=True)'+'\\n'+\n",
    "        'sns.barplot(y=y,x=x,data=df,color=color)'+'\\n')\n",
    "    if wish=='plot':\n",
    "        df = df.sort_values([y]).reset_index(drop=True)\n",
    "        sns.barplot(y=y,x=x,data=df,color=color)\n",
    "        \n",
    "    \n",
    "plot_sorted_bar(df,x='col2',y='col1',color='black',wish='print')\n",
    "plot_sorted_bar(df,x='col2',y='col1',color='black',wish='plot')"
   ]
  },
  {
   "cell_type": "code",
   "execution_count": null,
   "metadata": {},
   "outputs": [],
   "source": []
  }
 ],
 "metadata": {
  "kernelspec": {
   "display_name": "Python 3",
   "language": "python",
   "name": "python3"
  },
  "language_info": {
   "codemirror_mode": {
    "name": "ipython",
    "version": 3
   },
   "file_extension": ".py",
   "mimetype": "text/x-python",
   "name": "python",
   "nbconvert_exporter": "python",
   "pygments_lexer": "ipython3",
   "version": "3.6.8"
  }
 },
 "nbformat": 4,
 "nbformat_minor": 2
}
